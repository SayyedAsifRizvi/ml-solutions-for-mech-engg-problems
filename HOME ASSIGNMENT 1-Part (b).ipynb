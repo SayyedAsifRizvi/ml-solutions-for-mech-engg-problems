{
 "cells": [
  {
   "cell_type": "markdown",
   "id": "10e58c0c",
   "metadata": {},
   "source": [
    "### Select a Mechanical Engineering Regression Problem andwrite a Python program for the same.\n"
   ]
  },
  {
   "cell_type": "markdown",
   "id": "236787c2",
   "metadata": {},
   "source": [
    "### --------------------Problem Statement------------------1"
   ]
  },
  {
   "cell_type": "markdown",
   "id": "017ac7d6",
   "metadata": {},
   "source": [
    "#### One example of a mechanical engineering regression problem is predicting the fatigue life of a material given its stress amplitude and mean stress."
   ]
  },
  {
   "cell_type": "code",
   "execution_count": 16,
   "id": "a7363f03",
   "metadata": {},
   "outputs": [],
   "source": [
    "import pandas as pd\n",
    "import numpy as np\n",
    "from sklearn.linear_model import LinearRegression\n",
    "from sklearn.model_selection import train_test_split\n",
    "from sklearn.metrics import r2_score"
   ]
  },
  {
   "cell_type": "code",
   "execution_count": 17,
   "id": "7a83ddb6",
   "metadata": {},
   "outputs": [],
   "source": [
    "# Create example data\n",
    "stress_amplitude = np.random.randint(10, 100, size=1000)\n",
    "mean_stress = np.random.randint(0, 80, size=1000)\n",
    "fatigue_life = np.round(10000 / (stress_amplitude + 1.5*mean_stress)**0.6 \n",
    "                         + np.random.normal(0, 500, size=1000), decimals=0)\n"
   ]
  },
  {
   "cell_type": "code",
   "execution_count": 18,
   "id": "4406744e",
   "metadata": {},
   "outputs": [],
   "source": [
    "# Create dataframe\n",
    "df = pd.DataFrame({'stress_amplitude': stress_amplitude,\n",
    "                   'mean_stress': mean_stress,\n",
    "                   'fatigue_life': fatigue_life})\n",
    "\n"
   ]
  },
  {
   "cell_type": "code",
   "execution_count": 19,
   "id": "562d5a2e",
   "metadata": {},
   "outputs": [],
   "source": [
    "\n",
    "# Extract features and target variable\n",
    "X = df[['stress_amplitude', 'mean_stress']].values\n",
    "y = df['fatigue_life'].values\n"
   ]
  },
  {
   "cell_type": "code",
   "execution_count": 20,
   "id": "1efb9de7",
   "metadata": {},
   "outputs": [],
   "source": [
    "# Split data into training and testing sets\n",
    "X_train, X_test, y_train, y_test = train_test_split(X, y, test_size=0.2, random_state=42)\n"
   ]
  },
  {
   "cell_type": "code",
   "execution_count": 21,
   "id": "1865a359",
   "metadata": {},
   "outputs": [
    {
     "data": {
      "text/html": [
       "<style>#sk-container-id-2 {color: black;background-color: white;}#sk-container-id-2 pre{padding: 0;}#sk-container-id-2 div.sk-toggleable {background-color: white;}#sk-container-id-2 label.sk-toggleable__label {cursor: pointer;display: block;width: 100%;margin-bottom: 0;padding: 0.3em;box-sizing: border-box;text-align: center;}#sk-container-id-2 label.sk-toggleable__label-arrow:before {content: \"▸\";float: left;margin-right: 0.25em;color: #696969;}#sk-container-id-2 label.sk-toggleable__label-arrow:hover:before {color: black;}#sk-container-id-2 div.sk-estimator:hover label.sk-toggleable__label-arrow:before {color: black;}#sk-container-id-2 div.sk-toggleable__content {max-height: 0;max-width: 0;overflow: hidden;text-align: left;background-color: #f0f8ff;}#sk-container-id-2 div.sk-toggleable__content pre {margin: 0.2em;color: black;border-radius: 0.25em;background-color: #f0f8ff;}#sk-container-id-2 input.sk-toggleable__control:checked~div.sk-toggleable__content {max-height: 200px;max-width: 100%;overflow: auto;}#sk-container-id-2 input.sk-toggleable__control:checked~label.sk-toggleable__label-arrow:before {content: \"▾\";}#sk-container-id-2 div.sk-estimator input.sk-toggleable__control:checked~label.sk-toggleable__label {background-color: #d4ebff;}#sk-container-id-2 div.sk-label input.sk-toggleable__control:checked~label.sk-toggleable__label {background-color: #d4ebff;}#sk-container-id-2 input.sk-hidden--visually {border: 0;clip: rect(1px 1px 1px 1px);clip: rect(1px, 1px, 1px, 1px);height: 1px;margin: -1px;overflow: hidden;padding: 0;position: absolute;width: 1px;}#sk-container-id-2 div.sk-estimator {font-family: monospace;background-color: #f0f8ff;border: 1px dotted black;border-radius: 0.25em;box-sizing: border-box;margin-bottom: 0.5em;}#sk-container-id-2 div.sk-estimator:hover {background-color: #d4ebff;}#sk-container-id-2 div.sk-parallel-item::after {content: \"\";width: 100%;border-bottom: 1px solid gray;flex-grow: 1;}#sk-container-id-2 div.sk-label:hover label.sk-toggleable__label {background-color: #d4ebff;}#sk-container-id-2 div.sk-serial::before {content: \"\";position: absolute;border-left: 1px solid gray;box-sizing: border-box;top: 0;bottom: 0;left: 50%;z-index: 0;}#sk-container-id-2 div.sk-serial {display: flex;flex-direction: column;align-items: center;background-color: white;padding-right: 0.2em;padding-left: 0.2em;position: relative;}#sk-container-id-2 div.sk-item {position: relative;z-index: 1;}#sk-container-id-2 div.sk-parallel {display: flex;align-items: stretch;justify-content: center;background-color: white;position: relative;}#sk-container-id-2 div.sk-item::before, #sk-container-id-2 div.sk-parallel-item::before {content: \"\";position: absolute;border-left: 1px solid gray;box-sizing: border-box;top: 0;bottom: 0;left: 50%;z-index: -1;}#sk-container-id-2 div.sk-parallel-item {display: flex;flex-direction: column;z-index: 1;position: relative;background-color: white;}#sk-container-id-2 div.sk-parallel-item:first-child::after {align-self: flex-end;width: 50%;}#sk-container-id-2 div.sk-parallel-item:last-child::after {align-self: flex-start;width: 50%;}#sk-container-id-2 div.sk-parallel-item:only-child::after {width: 0;}#sk-container-id-2 div.sk-dashed-wrapped {border: 1px dashed gray;margin: 0 0.4em 0.5em 0.4em;box-sizing: border-box;padding-bottom: 0.4em;background-color: white;}#sk-container-id-2 div.sk-label label {font-family: monospace;font-weight: bold;display: inline-block;line-height: 1.2em;}#sk-container-id-2 div.sk-label-container {text-align: center;}#sk-container-id-2 div.sk-container {/* jupyter's `normalize.less` sets `[hidden] { display: none; }` but bootstrap.min.css set `[hidden] { display: none !important; }` so we also need the `!important` here to be able to override the default hidden behavior on the sphinx rendered scikit-learn.org. See: https://github.com/scikit-learn/scikit-learn/issues/21755 */display: inline-block !important;position: relative;}#sk-container-id-2 div.sk-text-repr-fallback {display: none;}</style><div id=\"sk-container-id-2\" class=\"sk-top-container\"><div class=\"sk-text-repr-fallback\"><pre>LinearRegression()</pre><b>In a Jupyter environment, please rerun this cell to show the HTML representation or trust the notebook. <br />On GitHub, the HTML representation is unable to render, please try loading this page with nbviewer.org.</b></div><div class=\"sk-container\" hidden><div class=\"sk-item\"><div class=\"sk-estimator sk-toggleable\"><input class=\"sk-toggleable__control sk-hidden--visually\" id=\"sk-estimator-id-2\" type=\"checkbox\" checked><label for=\"sk-estimator-id-2\" class=\"sk-toggleable__label sk-toggleable__label-arrow\">LinearRegression</label><div class=\"sk-toggleable__content\"><pre>LinearRegression()</pre></div></div></div></div></div>"
      ],
      "text/plain": [
       "LinearRegression()"
      ]
     },
     "execution_count": 21,
     "metadata": {},
     "output_type": "execute_result"
    }
   ],
   "source": [
    "# Fit linear regression model\n",
    "regressor = LinearRegression()\n",
    "regressor.fit(X_train, y_train)\n",
    "\n"
   ]
  },
  {
   "cell_type": "code",
   "execution_count": 22,
   "id": "389af085",
   "metadata": {},
   "outputs": [],
   "source": [
    "# Make predictions on test data\n",
    "y_pred = regressor.predict(X_test)\n"
   ]
  },
  {
   "cell_type": "code",
   "execution_count": 23,
   "id": "9e177ee7",
   "metadata": {},
   "outputs": [
    {
     "name": "stdout",
     "output_type": "stream",
     "text": [
      "R^2 score: 0.18407385907312934\n"
     ]
    }
   ],
   "source": [
    "# Evaluate model performance using R^2 score\n",
    "r2 = r2_score(y_test, y_pred)\n",
    "print(\"R^2 score:\", r2)\n"
   ]
  },
  {
   "cell_type": "markdown",
   "id": "53d18cee",
   "metadata": {},
   "source": [
    "### Select a Mechanical Engineering Regression Problem andwrite a Python program for the same.\n"
   ]
  },
  {
   "cell_type": "markdown",
   "id": "47f40e28",
   "metadata": {},
   "source": [
    "### ---------------------------------Problem Statement-----------------------------2"
   ]
  },
  {
   "cell_type": "markdown",
   "id": "aa21ae9a",
   "metadata": {},
   "source": [
    "### Code for Promech's Mechanical Parts Classifier using images of CAD models"
   ]
  },
  {
   "cell_type": "code",
   "execution_count": null,
   "id": "0358fa58",
   "metadata": {},
   "outputs": [],
   "source": [
    "from PIL import Image\n",
    "from skimage.io import imread\n",
    "from skimage.transform import rescale, resize\n",
    "import os\n",
    "import glob\n",
    "import string\n",
    "import pandas as pd\n",
    "import numpy as np\n",
    "import matplotlib.pyplot as plt\n",
    "from sklearn.model_selection import train_test_split\n",
    "from keras import applications\n",
    "import keras\n",
    "from keras.layers import Dense, Activation, Flatten, Conv2D, MaxPooling2D\n",
    "from keras.models import Sequential\n",
    "from keras.utils import to_categorical\n",
    "from sklearn.metrics import confusion_matrix\n",
    "import seaborn as sn\n"
   ]
  },
  {
   "cell_type": "code",
   "execution_count": null,
   "id": "b20bb2c7",
   "metadata": {},
   "outputs": [],
   "source": [
    "path  = \"/data/blnw-images-224\"\n",
    "os.chdir(path)\n",
    "category_list=os.listdir(path)\n",
    "category_list"
   ]
  },
  {
   "cell_type": "code",
   "execution_count": null,
   "id": "7e4513ac",
   "metadata": {},
   "outputs": [],
   "source": [
    "list_of_image = glob.glob(\"**/*.png\")\n",
    "list_of_folders = glob.glob(\"**\")\n",
    "print(\"Total number of files \" + str(len(list_of_image)) )#Total data\n",
    "print(\"Total Number of classes \"+ str(len(list_of_folders))) #Total Number of classes|\n"
   ]
  },
  {
   "cell_type": "code",
   "execution_count": null,
   "id": "f52d9649",
   "metadata": {},
   "outputs": [],
   "source": [
    "#INDEX for Class number and Serial Number\n",
    "Class_Dict = {}\n",
    "for i in range(len(list_of_folders)):\n",
    "    Class_Dict[i] = list_of_folders[i] \n",
    "\n",
    "Class_Dict"
   ]
  },
  {
   "cell_type": "code",
   "execution_count": null,
   "id": "bed65df0",
   "metadata": {},
   "outputs": [],
   "source": [
    "# Converts the class type into integers according to their order in the folder\n",
    "# and appends to the list Y_list\n",
    "Y_list = []\n",
    "for i, data in enumerate(list_of_folders,0):\n",
    "    list_of_images_in_folder = glob.glob(data+\"/*.png\") #check for .JPEG or .jpg or .png\n",
    "    for j in list_of_images_in_folder:\n",
    "        Y_list.append(i)\n",
    "\n",
    "Y = np.asarray(Y_list)\n",
    "Y = Y.reshape(-1,1)\n",
    "Y.shape"
   ]
  },
  {
   "cell_type": "code",
   "execution_count": null,
   "id": "af2ef448",
   "metadata": {},
   "outputs": [],
   "source": [
    "# to Count the number of files in each category(i.e. folder). \n",
    "# Compare with number of files in the folder.\n",
    "np.unique(Y)\n",
    "unique, counts = np.unique(Y, return_counts=True)\n",
    "dict(zip(unique, counts)) \n"
   ]
  },
  {
   "cell_type": "code",
   "execution_count": null,
   "id": "3a5605ec",
   "metadata": {},
   "outputs": [],
   "source": [
    "image_list = []\n",
    "for i,each in enumerate(list_of_image,1):\n",
    "    im = imread(each, as_gray = True) #Convert images to gray and read as an array \n",
    "    image_list.append(im) #add to this list"
   ]
  },
  {
   "cell_type": "code",
   "execution_count": null,
   "id": "cd452656",
   "metadata": {},
   "outputs": [],
   "source": [
    "X = np.asarray(image_list) #Convert the list into array\n",
    "X.shape"
   ]
  },
  {
   "cell_type": "code",
   "execution_count": null,
   "id": "07cfb131",
   "metadata": {},
   "outputs": [],
   "source": [
    "X_ref = X #To keep the dimensions\n",
    "X = X.reshape(-1, X_ref.shape[1],X_ref.shape[2], 1) #Convert to format usable by our model\n",
    "X.shape"
   ]
  },
  {
   "cell_type": "code",
   "execution_count": null,
   "id": "4129f047",
   "metadata": {},
   "outputs": [],
   "source": [
    "#Visualise an image \n",
    "plt.imshow(X[0].reshape(X_ref.shape[1],X_ref.shape[2]), cmap = plt.cm.binary)\n",
    "plt.show()"
   ]
  },
  {
   "cell_type": "code",
   "execution_count": null,
   "id": "c1348ce2",
   "metadata": {},
   "outputs": [],
   "source": [
    "#Visualisation for classes\n",
    "plt.figure(figsize=(20,20));\n",
    "n = 2 #Class number {0: 'nut', 1: 'locatingpin', 2: 'bolt', 3: 'washer'}\n",
    "num = 100 #num of data to visualize from the cluster\n",
    "for i in range(1,num): \n",
    "    plt.subplot(10, 10, i); #(Number of rows, Number of column per row, item number)\n",
    "    plt.imshow(X[i+(1904*n)].reshape(X.shape[1], X.shape[2]), cmap = plt.cm.binary);\n",
    "    \n",
    "plt.show()"
   ]
  },
  {
   "cell_type": "code",
   "execution_count": null,
   "id": "09a87b63",
   "metadata": {},
   "outputs": [],
   "source": [
    "#Training split\n",
    "X_train, X_test, y_train, y_test = train_test_split(X, Y, train_size=0.8,test_size=0.2, random_state=1) "
   ]
  },
  {
   "cell_type": "code",
   "execution_count": null,
   "id": "05711ea3",
   "metadata": {},
   "outputs": [],
   "source": [
    "print(\"Shape of training data \" + str(X_train.shape) )\n",
    "print(\"Shape of testing data \"+ str(X_test.shape) )\n",
    "print(\"Shape of training label \"+ str(y_train.shape) )\n",
    "print(\"Shape of testing label \"+ str(y_test.shape) )"
   ]
  },
  {
   "cell_type": "code",
   "execution_count": null,
   "id": "d1b15eb9",
   "metadata": {},
   "outputs": [],
   "source": [
    "Y_train_one_hot = to_categorical(y_train)\n",
    "Y_train_one_hot.shape #One hot encoding of Y"
   ]
  },
  {
   "cell_type": "markdown",
   "id": "295ff4eb",
   "metadata": {},
   "source": [
    "### Sequential"
   ]
  },
  {
   "cell_type": "code",
   "execution_count": null,
   "id": "43987769",
   "metadata": {},
   "outputs": [],
   "source": [
    "#Creation of a CNN . Sequential Model\n",
    "model = Sequential()\n",
    "model.add(Conv2D(64, (3,3), input_shape=(224, 224, 1))) #input_shape matches our input image\n",
    "model.add(Activation('relu'))\n",
    "model.add(MaxPooling2D(pool_size=(2,2)))\n",
    "model.add(Conv2D(64, (3,3)))\n",
    "model.add(Activation('relu'))\n",
    "model.add(MaxPooling2D(pool_size=(2,2)))\n",
    "model.add(Flatten())\n",
    "model.add(Dense(64))\n",
    "model.add(Dense(4)) #data of four types\n",
    "model.add(Activation('softmax'))\n",
    "model.compile(loss=keras.losses.categorical_crossentropy, \n",
    "              optimizer=keras.optimizers.Adam(),metrics=['accuracy'])"
   ]
  },
  {
   "cell_type": "code",
   "execution_count": null,
   "id": "88f73b91",
   "metadata": {},
   "outputs": [],
   "source": [
    "model.summary()"
   ]
  },
  {
   "cell_type": "code",
   "execution_count": null,
   "id": "bad82d06",
   "metadata": {},
   "outputs": [],
   "source": [
    "Y_test_one_hot = to_categorical(y_test)"
   ]
  },
  {
   "cell_type": "code",
   "execution_count": null,
   "id": "c7509757",
   "metadata": {},
   "outputs": [],
   "source": [
    "no_epochs = 15\n",
    "history = model.fit(X_train, Y_train_one_hot, batch_size=64, \n",
    "                    epochs = no_epochs, \n",
    "                    validation_data=(X_test, Y_test_one_hot)) #Actual Training of model"
   ]
  },
  {
   "cell_type": "code",
   "execution_count": null,
   "id": "78bc1a66",
   "metadata": {},
   "outputs": [],
   "source": [
    "loss_train = history.history['loss']\n",
    "loss_val = history.history['val_loss']\n",
    "epochs = range(1,no_epochs+1)\n",
    "plt.plot(epochs, loss_train, 'g', label='Training loss')\n",
    "plt.plot(epochs, loss_val, 'b', label='validation loss')\n",
    "plt.title('Training and Validation loss')\n",
    "plt.xlabel('Epochs')\n",
    "plt.ylabel('Loss')\n",
    "plt.legend()\n",
    "plt.show()"
   ]
  },
  {
   "cell_type": "code",
   "execution_count": null,
   "id": "966a326d",
   "metadata": {},
   "outputs": [],
   "source": [
    "loss_train = history.history['accuracy']\n",
    "loss_val = history.history['val_accuracy']\n",
    "epochs = range(1,no_epochs+1)\n",
    "plt.plot(epochs, loss_train, 'g', label='Training Accuracy')\n",
    "plt.plot(epochs, loss_val, 'b', label='validation Accuracy')\n",
    "plt.title('Training and Validation accuracy')\n",
    "plt.xlabel('Epochs')\n",
    "plt.ylabel('Accuracy')\n",
    "plt.legend()\n",
    "plt.show()"
   ]
  },
  {
   "cell_type": "code",
   "execution_count": null,
   "id": "e469d7d7",
   "metadata": {},
   "outputs": [],
   "source": [
    "predictions = model.predict(X_test,batch_size=64, verbose=0)\n",
    "y_classes = predictions.argmax(axis=-1)\n",
    "cm = confusion_matrix(y_test, y_classes)\n",
    "print(cm)"
   ]
  },
  {
   "cell_type": "code",
   "execution_count": null,
   "id": "6af670c8",
   "metadata": {},
   "outputs": [],
   "source": [
    "#to print confusion matrix\n",
    "def print_cm(cm, labels, hide_zeroes=False, hide_diagonal=False, hide_threshold=None):\n",
    "    \"\"\"pretty print for confusion matrixes\"\"\"\n",
    "    columnwidth = max([len(x) for x in labels] + [5])  # 5 is value length\n",
    "    empty_cell = \" \" * columnwidth\n",
    "    # Print header\n",
    "    print(\"    \" + empty_cell, end=\" \")\n",
    "    for label in labels:\n",
    "        print(\"%{0}s\".format(columnwidth) % label, end=\" \")\n",
    "    print()\n",
    "    # Print rows\n",
    "    for i, label1 in enumerate(labels):\n",
    "        print(\"    %{0}s\".format(columnwidth) % label1, end=\" \")\n",
    "        for j in range(len(labels)):\n",
    "            cell = \"%{0}.1f\".format(columnwidth) % cm[i, j]\n",
    "            if hide_zeroes:\n",
    "                cell = cell if float(cm[i, j]) != 0 else empty_cell\n",
    "            if hide_diagonal:\n",
    "                cell = cell if i != j else empty_cell\n",
    "            if hide_threshold:\n",
    "                cell = cell if cm[i, j] > hide_threshold else empty_cell\n",
    "            print(cell, end=\" \")\n",
    "        print()\n",
    "\n",
    "# first generate with specified labels\n",
    "cm = confusion_matrix(y_test, y_classes)\n",
    "# then print it in a pretty way\n",
    "print_cm(cm, category_list)"
   ]
  },
  {
   "cell_type": "code",
   "execution_count": null,
   "id": "cbbbd85b",
   "metadata": {},
   "outputs": [],
   "source": [
    "array = cm\n",
    "df_cm = pd.DataFrame(array, index = [i for i in category_list],\n",
    "                  columns = [i for i in category_list])\n",
    "plt.figure(figsize = (10,7))\n",
    "sn.heatmap(df_cm, annot=True)"
   ]
  }
 ],
 "metadata": {
  "kernelspec": {
   "display_name": "Python 3 (ipykernel)",
   "language": "python",
   "name": "python3"
  },
  "language_info": {
   "codemirror_mode": {
    "name": "ipython",
    "version": 3
   },
   "file_extension": ".py",
   "mimetype": "text/x-python",
   "name": "python",
   "nbconvert_exporter": "python",
   "pygments_lexer": "ipython3",
   "version": "3.10.9"
  }
 },
 "nbformat": 4,
 "nbformat_minor": 5
}
